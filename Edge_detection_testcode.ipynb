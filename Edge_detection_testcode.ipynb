{
 "cells": [
  {
   "cell_type": "code",
   "execution_count": 1,
   "metadata": {},
   "outputs": [],
   "source": [
    "import cv2\n",
    "import glob"
   ]
  },
  {
   "cell_type": "code",
   "execution_count": 2,
   "metadata": {},
   "outputs": [],
   "source": [
    "vidcap = cv2.VideoCapture('l_reef.MOV')"
   ]
  },
  {
   "cell_type": "code",
   "execution_count": 3,
   "metadata": {},
   "outputs": [],
   "source": [
    "def getFrame(sec):\n",
    "    vidcap.set(cv2.CAP_PROP_POS_MSEC,sec*1000)\n",
    "    hasFrames,image = vidcap.read()\n",
    "    if hasFrames:\n",
    "        cv2.imwrite(\"lreef-image\"+str(count)+\".jpg\", image)   #save \n",
    "    return hasFrames"
   ]
  },
  {
   "cell_type": "code",
   "execution_count": 4,
   "metadata": {},
   "outputs": [],
   "source": [
    "import re\n",
    "\n",
    "def atoi(text):\n",
    "    return int(text) if text.isdigit() else text\n",
    "\n",
    "def natural_keys(text):\n",
    "    '''\n",
    "    alist.sort(key=natural_keys) sorts in human order\n",
    "    http://nedbatchelder.com/blog/200712/human_sorting.html\n",
    "    (See Toothy's implementation in the comments)\n",
    "    '''\n",
    "    return [ atoi(c) for c in re.split(r'(\\d+)', text) ]"
   ]
  },
  {
   "cell_type": "code",
   "execution_count": 5,
   "metadata": {},
   "outputs": [],
   "source": [
    "sec = 0\n",
    "frameRate = 0.05\n",
    "count = 1 \n",
    "sucess = getFrame(sec)\n",
    "while sucess:\n",
    "    count = count + 1\n",
    "    sec = sec + frameRate\n",
    "    sec = round(sec, 2)\n",
    "    sucess = getFrame(sec)"
   ]
  },
  {
   "cell_type": "code",
   "execution_count": 7,
   "metadata": {},
   "outputs": [],
   "source": [
    "images = glob.glob('lreef-image*')\n",
    "images.sort(key=natural_keys)"
   ]
  },
  {
   "cell_type": "code",
   "execution_count": 9,
   "metadata": {},
   "outputs": [],
   "source": [
    "import numpy as np\n",
    "subbed_images = []\n",
    "contour = np.array([[10,10], [190, 10], [190, 80], [10, 80]])\n",
    "#for i, pic in enumerate(images):  #Pausing because this may overload RAM\n",
    "for i in range(0,len(images)):\n",
    "    try:\n",
    "        img1 = images[i]\n",
    "        img1 = cv2.imread(img1)\n",
    "        #img1 = cv2.cvtColor(img1, cv2.COLOR_BGR2HSV)\n",
    "        #cv2.cvtColor(img1, cv2.COLOR_BGR2GRAY)\n",
    "        img2 = images[i+1]\n",
    "        img2 = cv2.imread(img2)\n",
    "        #img2 = cv2.cvtColor(img2, cv2.COLOR_BGR2GRAY)\n",
    "        #img2 = cv2.cvtColor(img2, cv2.COLOR_BGR2HSV)\n",
    "    except:\n",
    "        continue\n",
    "    sub_img = cv2.subtract(img1,img2)\n",
    "    #Apply a low pass filter with 2D convultion\n",
    "    kernel = np.array([[1, 1, 1, 1, 1], \n",
    "                   [1, 1, 1, 1, 1], \n",
    "                   [1, 1, 1, 1, 1], \n",
    "                   [1, 1, 1, 1, 1], \n",
    "                   [1, 1, 1, 1, 1]])\n",
    "    kernel = kernel/(sum(kernel)+3)\n",
    "    sub_img = cv2.filter2D(sub_img,-1,kernel)\n",
    "    sub_img = cv2.cvtColor(sub_img, cv2.COLOR_BGR2GRAY)\n",
    "    #sub_img = cv2.cvtColor(sub_img, cv2.CV_GRAY2RGB)\n",
    "    #sub_three = cv2.merge([sub_img,sub_img,sub_img])\n",
    "    #cv2.fillPoly(sub_three, contour, [36,255,12])\n",
    "    \n",
    "    subbed_images.append(sub_img)"
   ]
  },
  {
   "cell_type": "code",
   "execution_count": null,
   "metadata": {
    "scrolled": true
   },
   "outputs": [],
   "source": [
    "# loop over the images\n",
    "pathOut='deep_sea_king.mp4v'\n",
    "fps = 45\n",
    "\n",
    "for i, img in enumerate(subbed_images):\n",
    "    height, width = img.shape\n",
    "    size = (width,height)\n",
    "out = cv2.VideoWriter(pathOut,cv2.VideoWriter_fourcc(*'mp4v'), fps, size)\n",
    "for i in range(len(subbed_images)):\n",
    "    # writing to a image array\n",
    "    out.write(subbed_images[i])\n",
    "for i in range(len(subbed_images)):\n",
    "    try:\n",
    "        out.write(subbed_images[len(subbed_images)-i])\n",
    "    except IndexError:\n",
    "        continue\n",
    "out.release()\n",
    "out"
   ]
  },
  {
   "cell_type": "code",
   "execution_count": 31,
   "metadata": {},
   "outputs": [],
   "source": [
    "import moviepy.editor as mov"
   ]
  },
  {
   "cell_type": "code",
   "execution_count": 32,
   "metadata": {},
   "outputs": [],
   "source": [
    "clip = mov.VideoFileClip('deep_sea_king.mp4v')\n",
    "clip = clip.subclip(0,101)\n",
    "audioclip = mov.AudioFileClip(\"deep-sea-king.wav\")"
   ]
  },
  {
   "cell_type": "code",
   "execution_count": 33,
   "metadata": {},
   "outputs": [
    {
     "name": "stderr",
     "output_type": "stream",
     "text": [
      "\r",
      "chunk:   0%|                                                                        | 0/1787 [00:00<?, ?it/s, now=None]"
     ]
    },
    {
     "name": "stdout",
     "output_type": "stream",
     "text": [
      "Moviepy - Building video deep_sea_king_vid.mp4.\n",
      "MoviePy - Writing audio in deep_sea_king_vidTEMP_MPY_wvf_snd.mp3\n"
     ]
    },
    {
     "name": "stderr",
     "output_type": "stream",
     "text": [
      "t:   0%|                                                                             | 0/729 [00:00<?, ?it/s, now=None]"
     ]
    },
    {
     "name": "stdout",
     "output_type": "stream",
     "text": [
      "MoviePy - Done.\n",
      "Moviepy - Writing video deep_sea_king_vid.mp4\n",
      "\n"
     ]
    },
    {
     "name": "stderr",
     "output_type": "stream",
     "text": [
      "                                                                                                                       \r"
     ]
    },
    {
     "name": "stdout",
     "output_type": "stream",
     "text": [
      "Moviepy - Done !\n",
      "Moviepy - video ready deep_sea_king_vid.mp4\n"
     ]
    }
   ],
   "source": [
    "videoclip = clip.set_audio(audioclip)\n",
    "videoclip.write_videofile(\"deep_sea_king_vid.mp4\")"
   ]
  },
  {
   "cell_type": "code",
   "execution_count": null,
   "metadata": {},
   "outputs": [],
   "source": []
  }
 ],
 "metadata": {
  "kernelspec": {
   "display_name": "Python 3",
   "language": "python",
   "name": "python3"
  },
  "language_info": {
   "codemirror_mode": {
    "name": "ipython",
    "version": 3
   },
   "file_extension": ".py",
   "mimetype": "text/x-python",
   "name": "python",
   "nbconvert_exporter": "python",
   "pygments_lexer": "ipython3",
   "version": "3.8.3"
  }
 },
 "nbformat": 4,
 "nbformat_minor": 4
}
